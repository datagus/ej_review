{
 "cells": [
  {
   "cell_type": "markdown",
   "id": "a2f07771-ae68-4525-ba84-c5ebdd739c78",
   "metadata": {},
   "source": [
    "# Environmental Justice Data Handling after Screening\n",
    "<div style=\"background-color: green; padding: 10px; border-radius: 5px;\">\n",
    "</div>"
   ]
  },
  {
   "cell_type": "markdown",
   "id": "ef326c9e-578d-4558-9c4d-dd1eee59e800",
   "metadata": {},
   "source": [
    "<div style=\"background-color: purple; padding: 10px; border-radius: 5px;\">\n",
    "This jupyter notebook is intended to: \n",
    "    \n",
    "    1. Import the tables from the abstract screening google spreadsheet\n",
    "    2. Check errors in the data (it happens that people make alter the table without intention)\n",
    "    3. Organize the included articles according to the type of articles (conceptual, empirical, review, unknown) \n",
    "    4. Download the full text pdfs,\n",
    "    5. Label the pdfs correctly and organize into different folders,\n",
    "    6. Come up with a solution for cases when a articles are actually excluded or are from different article type\n",
    "</div>"
   ]
  },
  {
   "cell_type": "markdown",
   "id": "de74d08e-f7f1-4363-96fe-8bf60d603c1c",
   "metadata": {},
   "source": [
    "## Importing google spreadhsheet and inspection\n",
    "<div style=\"background-color: orange; padding: 10px; border-radius: 2px;\">\n",
    "</div>"
   ]
  },
  {
   "cell_type": "code",
   "execution_count": 2,
   "id": "b7e94903-9544-4546-9cbe-740d7f3c708f",
   "metadata": {},
   "outputs": [],
   "source": [
    "import pandas as pd\n",
    "import json\n",
    "import matplotlib.pyplot as plt\n",
    "import seaborn as sns\n",
    "from collections import Counter"
   ]
  },
  {
   "cell_type": "markdown",
   "id": "098a9424-f6c9-40ea-8151-72bdbd90ab04",
   "metadata": {},
   "source": [
    "<div style=\"background-color: purple; padding: 2px; border-radius: 2px;\">\n",
    "The id of the google sheet is in the json file that is given separate to you, so it is not included in the repository.\n",
    "</div>"
   ]
  },
  {
   "cell_type": "code",
   "execution_count": 3,
   "id": "b796c317-968a-4b57-8af9-716afa29e945",
   "metadata": {},
   "outputs": [],
   "source": [
    "#loading file with the id\n",
    "con_file = open(\"gsheet.json\")\n",
    "file_key = json.load(con_file)\n",
    "con_file.close()\n",
    "\n",
    "#loading google spreadsheet\n",
    "spreadsheet_id = file_key[\"id\"]  #from the json file\n",
    "url = f\"https://docs.google.com/spreadsheets/d/{spreadsheet_id}/export?format=xlsx\"\n",
    "xls = pd.ExcelFile(url)"
   ]
  },
  {
   "cell_type": "markdown",
   "id": "03fb6b61-eeca-4fda-86a1-3eaa6fe8018f",
   "metadata": {},
   "source": [
    "<div style=\"background-color: purple; padding: 2px; border-radius: 2px;\">\n",
    "Check the dataframe: if there are null values in the first 12 columns, columns added by others, etc\n",
    "</div>"
   ]
  },
  {
   "cell_type": "code",
   "execution_count": 4,
   "id": "330626f1-af53-4451-8fb5-d254e713aebf",
   "metadata": {},
   "outputs": [
    {
     "name": "stdout",
     "output_type": "stream",
     "text": [
      "<class 'pandas.core.frame.DataFrame'>\n",
      "RangeIndex: 5676 entries, 0 to 5675\n",
      "Data columns (total 18 columns):\n",
      " #   Column            Non-Null Count  Dtype \n",
      "---  ------            --------------  ----- \n",
      " 0   short_id          5676 non-null   int64 \n",
      " 1   eid               5676 non-null   object\n",
      " 2   doi               5676 non-null   object\n",
      " 3   weblink           5676 non-null   object\n",
      " 4   scholar_link      5676 non-null   object\n",
      " 5   journal           5676 non-null   object\n",
      " 6   author_names      5676 non-null   object\n",
      " 7   year              5676 non-null   int64 \n",
      " 8   title             5676 non-null   object\n",
      " 9   abstract          5676 non-null   object\n",
      " 10  included          5676 non-null   object\n",
      " 11  article_type      5676 non-null   object\n",
      " 12  responsible       5676 non-null   object\n",
      " 13  intercoder check  57 non-null     object\n",
      " 14  Unnamed: 13       3 non-null      object\n",
      " 15  Comment           49 non-null     object\n",
      " 16  Column 1          9 non-null      object\n",
      " 17  Unnamed: 12       68 non-null     object\n",
      "dtypes: int64(2), object(16)\n",
      "memory usage: 798.3+ KB\n"
     ]
    }
   ],
   "source": [
    "#putting all sheets into a single huge df\n",
    "sheets = xls.sheet_names\n",
    "dataframes = []\n",
    "for sheet in sheets:\n",
    "    dataframe = xls.parse(sheet)\n",
    "    dataframe[\"responsible\"] = sheet\n",
    "    dataframes.append(dataframe)\n",
    "\n",
    "df = pd.concat(dataframes, ignore_index=True)\n",
    "df.info()"
   ]
  },
  {
   "cell_type": "code",
   "execution_count": 6,
   "id": "e8968e57-7a8e-4a64-a918-c122a41db8ed",
   "metadata": {},
   "outputs": [
    {
     "name": "stdout",
     "output_type": "stream",
     "text": [
      "<class 'pandas.core.frame.DataFrame'>\n",
      "RangeIndex: 5676 entries, 0 to 5675\n",
      "Data columns (total 13 columns):\n",
      " #   Column        Non-Null Count  Dtype \n",
      "---  ------        --------------  ----- \n",
      " 0   short_id      5676 non-null   int64 \n",
      " 1   eid           5676 non-null   object\n",
      " 2   doi           5676 non-null   object\n",
      " 3   weblink       5676 non-null   object\n",
      " 4   scholar_link  5676 non-null   object\n",
      " 5   journal       5676 non-null   object\n",
      " 6   author_names  5676 non-null   object\n",
      " 7   year          5676 non-null   int64 \n",
      " 8   title         5676 non-null   object\n",
      " 9   abstract      5676 non-null   object\n",
      " 10  included      5676 non-null   object\n",
      " 11  article_type  5676 non-null   object\n",
      " 12  responsible   5676 non-null   object\n",
      "dtypes: int64(2), object(11)\n",
      "memory usage: 576.6+ KB\n"
     ]
    }
   ],
   "source": [
    "#getting rid of unnecessary columns\n",
    "df = df.iloc[:,:13]\n",
    "df.info()"
   ]
  },
  {
   "cell_type": "markdown",
   "id": "cc82bcc4-daad-4706-bf95-91daad237ed0",
   "metadata": {},
   "source": [
    "<div style=\"background-color: purple; padding: 2px; border-radius: 2px;\">\n",
    "Check how many articles are included, and if there are some left to be coded yet.\n",
    "</div>"
   ]
  },
  {
   "cell_type": "code",
   "execution_count": 8,
   "id": "bbf79433-0914-46d9-af86-975a273d3648",
   "metadata": {},
   "outputs": [
    {
     "data": {
      "text/plain": [
       "1309"
      ]
     },
     "execution_count": 8,
     "metadata": {},
     "output_type": "execute_result"
    }
   ],
   "source": [
    "#articles that have not been screened\n",
    "df.loc[df[\"included\"]==\"-\",][\"short_id\"].count()"
   ]
  },
  {
   "cell_type": "code",
   "execution_count": 9,
   "id": "aadcf1cd-9834-407b-9f06-872d65b3b965",
   "metadata": {},
   "outputs": [
    {
     "data": {
      "text/plain": [
       "array(['CG', 'HVW', 'MFK', 'KBB', 'DBM', 'EO', 'LK', 'MFK2', 'AU2', 'EX8',\n",
       "       'EX9'], dtype=object)"
      ]
     },
     "execution_count": 9,
     "metadata": {},
     "output_type": "execute_result"
    }
   ],
   "source": [
    "#double check if anyone has still abstracts to be screened\n",
    "df.loc[df[\"included\"]==\"-\",][\"responsible\"].unique()"
   ]
  },
  {
   "cell_type": "code",
   "execution_count": 11,
   "id": "60ec2a76-4f4d-4eb4-95e3-34325335e717",
   "metadata": {},
   "outputs": [
    {
     "data": {
      "text/plain": [
       "array(['yes', 'no', '-', '?'], dtype=object)"
      ]
     },
     "execution_count": 11,
     "metadata": {},
     "output_type": "execute_result"
    }
   ],
   "source": [
    "#check if any there are other values than \"yes\", \"no\" and \"-\". If so, you need to find how and tell Ellie\n",
    "df[\"included\"].unique()"
   ]
  },
  {
   "cell_type": "code",
   "execution_count": 17,
   "id": "29ac9b9e-bec4-475b-ae2e-7e4148785d0e",
   "metadata": {},
   "outputs": [
    {
     "data": {
      "text/plain": [
       "array(['conceptual', '-', 'empirical', 'unknown', 'review'], dtype=object)"
      ]
     },
     "execution_count": 17,
     "metadata": {},
     "output_type": "execute_result"
    }
   ],
   "source": [
    "#check if any there are other values than the established in the article_type. If so, you need to find how and tell Ellie\n",
    "df[\"article_type\"].unique() #there should be only \"conceptual\", \"-\", \"empirical\", \"unknown\", \"review\""
   ]
  },
  {
   "cell_type": "code",
   "execution_count": 18,
   "id": "24611adf-bb52-408a-9a54-f8f2f7bba5eb",
   "metadata": {},
   "outputs": [
    {
     "data": {
      "text/plain": [
       "array(['HVW', 'KBB', 'AU', 'DBM', 'PL', 'AU2'], dtype=object)"
      ]
     },
     "execution_count": 18,
     "metadata": {},
     "output_type": "execute_result"
    }
   ],
   "source": [
    "#dobule check if any has included articles but not selected the article type\n",
    "df.loc[(df[\"included\"]==\"yes\") & (df[\"article_type\"]==\"-\"),][\"responsible\"].unique()"
   ]
  },
  {
   "cell_type": "markdown",
   "id": "11476a26-4fb5-45cf-912b-991b2a2340a1",
   "metadata": {},
   "source": [
    "<div style=\"background-color: purple; padding: 2px; border-radius: 2px;\">\n",
    "At the end, in the \"included\" column there should be only \"yes\" and \"no\" values. For those who are included, only \"conceptual\", \"empirical\", \"review\" and \"unkown\". After it is cleaned, create a local copy, and upload it to ghe EJ review google drive\n",
    "</div>"
   ]
  },
  {
   "cell_type": "code",
   "execution_count": null,
   "id": "43e93bf7-f169-4feb-91b6-92af13f413d6",
   "metadata": {
    "scrolled": true
   },
   "outputs": [],
   "source": [
    "df.to_excel(\"yourpath\", index=False)"
   ]
  },
  {
   "cell_type": "markdown",
   "id": "8a05fc27-b8f9-418f-b90f-fbe5d26b51d4",
   "metadata": {},
   "source": [
    "## Organizing included articles\n",
    "<div style=\"background-color: orange; padding: 10px; border-radius: 2px;\">\n",
    "</div>"
   ]
  },
  {
   "cell_type": "code",
   "execution_count": 23,
   "id": "3ba7d632-33b3-49aa-a76f-5763a4ac1b00",
   "metadata": {},
   "outputs": [
    {
     "name": "stdout",
     "output_type": "stream",
     "text": [
      "<class 'pandas.core.frame.DataFrame'>\n",
      "RangeIndex: 2771 entries, 0 to 2770\n",
      "Data columns (total 13 columns):\n",
      " #   Column        Non-Null Count  Dtype \n",
      "---  ------        --------------  ----- \n",
      " 0   short_id      2771 non-null   int64 \n",
      " 1   eid           2771 non-null   object\n",
      " 2   doi           2771 non-null   object\n",
      " 3   weblink       2771 non-null   object\n",
      " 4   scholar_link  2771 non-null   object\n",
      " 5   journal       2771 non-null   object\n",
      " 6   author_names  2771 non-null   object\n",
      " 7   year          2771 non-null   int64 \n",
      " 8   title         2771 non-null   object\n",
      " 9   abstract      2771 non-null   object\n",
      " 10  included      2771 non-null   object\n",
      " 11  article_type  2771 non-null   object\n",
      " 12  responsible   2771 non-null   object\n",
      "dtypes: int64(2), object(11)\n",
      "memory usage: 281.6+ KB\n"
     ]
    }
   ],
   "source": [
    "#creating dataframe with the included articles\n",
    "included_df = df.loc[df[\"included\"]==\"yes\",].reset_index(drop=True)"
   ]
  },
  {
   "cell_type": "markdown",
   "id": "a36b8de5-1818-4f92-8fb9-c4338dda9d0e",
   "metadata": {},
   "source": [
    "<div style=\"background-color: darkblue; padding: 2px; border-radius: 2px;\">\n",
    "There is some metadata that I left out to make the screening process smoother. Some metadata can help in the downloading process, for example, knowing the publisher, if it is open access or not. For that, you need to use pybliometrics library\n",
    "\n",
    "https://pybliometrics.readthedocs.io/en/stable/\n",
    "\n",
    "However, before that, you need to get your Scopus API key. You need to get to Scopus through the leuphana network \n",
    "https://dbis.ur.de/UBLUE/resources/3636?lang=de\n",
    "</div>"
   ]
  },
  {
   "cell_type": "code",
   "execution_count": 24,
   "id": "fd516bfb-a1be-426e-b5ff-bb35388548aa",
   "metadata": {},
   "outputs": [],
   "source": [
    "from pybliometrics.scopus import ScopusSearch, AbstractRetrieval\n",
    "\n",
    "import pybliometrics\n",
    "pybliometrics.scopus.init()     #probably you need your API_KEY loaded in a .json file, similar to gsheet.json"
   ]
  },
  {
   "cell_type": "markdown",
   "id": "77be6edf-f666-4537-98ca-c6463fec590f",
   "metadata": {},
   "source": [
    "<div style=\"background-color: purple; padding: 2px; border-radius: 2px;\">\n",
    "Now, the only thing you need to have are eid or the unique identifiers\n",
    "</div>"
   ]
  },
  {
   "cell_type": "code",
   "execution_count": 25,
   "id": "4f88d94c-2e85-4d7e-908a-4aa807b00be3",
   "metadata": {},
   "outputs": [],
   "source": [
    "eids = included_df[\"eid\"].tolist()\n",
    "articles = []\n",
    "for eid in eids:\n",
    "    articles.append(AbstractRetrieval(eid, view='FULL'))  #this is the class to retrieve metadata"
   ]
  },
  {
   "cell_type": "code",
   "execution_count": 27,
   "id": "8b0cac70-1f7c-4371-ae4d-b0e3359d57f9",
   "metadata": {},
   "outputs": [
    {
     "data": {
      "text/plain": [
       "'John Wiley and Sons Inc'"
      ]
     },
     "execution_count": 27,
     "metadata": {},
     "output_type": "execute_result"
    }
   ],
   "source": [
    "# for example getting the publisher of one article\n",
    "articles[93].publisher"
   ]
  },
  {
   "cell_type": "code",
   "execution_count": 34,
   "id": "79e94123-636b-4ce1-b34c-fc64de6cc69b",
   "metadata": {},
   "outputs": [
    {
     "data": {
      "text/plain": [
       "True"
      ]
     },
     "execution_count": 34,
     "metadata": {},
     "output_type": "execute_result"
    }
   ],
   "source": [
    "#or getting if it is oppen acces\n",
    "articles[1034].openaccessFlag "
   ]
  },
  {
   "cell_type": "markdown",
   "id": "8b9d7c57-ae5a-45ec-94f2-fb93bc865c26",
   "metadata": {},
   "source": [
    "<div style=\"background-color: purple; padding: 2px; border-radius: 2px;\">\n",
    "You can create another dataframe with new columns\n",
    "</div>"
   ]
  },
  {
   "cell_type": "code",
   "execution_count": 33,
   "id": "f5a8ff18-c842-419c-96ea-5fc28e1e62d6",
   "metadata": {},
   "outputs": [],
   "source": [
    "newdf = included_df.copy()\n",
    "\n",
    "for i, article in enumerate(articles):\n",
    "    newdf.loc[i,\"publisher\"] = article.publisher\n",
    "    newdf.loc[i,\"openaccess\"] = article.openaccessFlag"
   ]
  },
  {
   "cell_type": "code",
   "execution_count": 35,
   "id": "8dc0dac3-9ea4-465b-8686-d5dbb7addf8c",
   "metadata": {},
   "outputs": [
    {
     "name": "stdout",
     "output_type": "stream",
     "text": [
      "<class 'pandas.core.frame.DataFrame'>\n",
      "RangeIndex: 2771 entries, 0 to 2770\n",
      "Data columns (total 15 columns):\n",
      " #   Column        Non-Null Count  Dtype \n",
      "---  ------        --------------  ----- \n",
      " 0   short_id      2771 non-null   int64 \n",
      " 1   eid           2771 non-null   object\n",
      " 2   doi           2771 non-null   object\n",
      " 3   weblink       2771 non-null   object\n",
      " 4   scholar_link  2771 non-null   object\n",
      " 5   journal       2771 non-null   object\n",
      " 6   author_names  2771 non-null   object\n",
      " 7   year          2771 non-null   int64 \n",
      " 8   title         2771 non-null   object\n",
      " 9   abstract      2771 non-null   object\n",
      " 10  included      2771 non-null   object\n",
      " 11  article_type  2771 non-null   object\n",
      " 12  responsible   2771 non-null   object\n",
      " 13  publisher     2234 non-null   object\n",
      " 14  openaccess    2389 non-null   object\n",
      "dtypes: int64(2), object(13)\n",
      "memory usage: 324.9+ KB\n"
     ]
    }
   ],
   "source": [
    "newdf.info()"
   ]
  },
  {
   "cell_type": "markdown",
   "id": "3a03f2d8-8d52-4498-be1d-12283022846d",
   "metadata": {},
   "source": [
    "<div style=\"background-color: purple; padding: 2px; border-radius: 2px;\">\n",
    "Now you can split the dataframes into different ones depending on the type of article\n",
    "</div>"
   ]
  },
  {
   "cell_type": "code",
   "execution_count": 38,
   "id": "ba391ae2-e61a-483e-8308-79e30064188b",
   "metadata": {},
   "outputs": [],
   "source": [
    "empirical_df = newdf.loc[newdf[\"article_type\"]==\"empirical\",].reset_index(drop=True)"
   ]
  },
  {
   "cell_type": "code",
   "execution_count": 41,
   "id": "2fa26e32-4b9c-4d7a-8b1f-6f90536b0351",
   "metadata": {},
   "outputs": [
    {
     "name": "stdout",
     "output_type": "stream",
     "text": [
      "<class 'pandas.core.frame.DataFrame'>\n",
      "RangeIndex: 1628 entries, 0 to 1627\n",
      "Data columns (total 15 columns):\n",
      " #   Column        Non-Null Count  Dtype \n",
      "---  ------        --------------  ----- \n",
      " 0   short_id      1628 non-null   int64 \n",
      " 1   eid           1628 non-null   object\n",
      " 2   doi           1628 non-null   object\n",
      " 3   weblink       1628 non-null   object\n",
      " 4   scholar_link  1628 non-null   object\n",
      " 5   journal       1628 non-null   object\n",
      " 6   author_names  1628 non-null   object\n",
      " 7   year          1628 non-null   int64 \n",
      " 8   title         1628 non-null   object\n",
      " 9   abstract      1628 non-null   object\n",
      " 10  included      1628 non-null   object\n",
      " 11  article_type  1628 non-null   object\n",
      " 12  responsible   1628 non-null   object\n",
      " 13  publisher     1361 non-null   object\n",
      " 14  openaccess    1441 non-null   object\n",
      "dtypes: int64(2), object(13)\n",
      "memory usage: 190.9+ KB\n"
     ]
    }
   ],
   "source": [
    "empirical_df.info()"
   ]
  },
  {
   "cell_type": "markdown",
   "id": "7e0cfe24-0a15-4a99-8bae-30916f2be21f",
   "metadata": {},
   "source": [
    "## Downloading\n",
    "<div style=\"background-color: orange; padding: 10px; border-radius: 2px;\">\n",
    "</div>"
   ]
  },
  {
   "cell_type": "markdown",
   "id": "af487b64-4641-4f2f-bbed-2b8923611055",
   "metadata": {},
   "source": [
    "<div style=\"background-color: purple; padding: 2px; border-radius: 2px;\">\n",
    "I have tried different approaches such as API, web scraping, etc, but one is investing much more time in automatizing that than in the actual downloading. My personal recommendation is to download manually the pdfs and put the short id as the label. The only thing to save time is to minimize the amount of clicks.  You have a column with the original web of the article and one with google scholar. \n",
    "</div>"
   ]
  },
  {
   "cell_type": "markdown",
   "id": "5a07a4f4-e485-462a-8769-728c701328f7",
   "metadata": {},
   "source": [
    "<div style=\"background-color: violet; padding: 2px; border-radius: 2px;\">\n",
    "So, create four different folders (empirical, conceptual, review, unknown) in the same repository or at least where you have the jupyter notebook file. \n",
    "</div>"
   ]
  },
  {
   "cell_type": "markdown",
   "id": "12e32618-2e27-4a8b-bff5-5b8d51f89fa5",
   "metadata": {},
   "source": [
    "## Labeling system\n",
    "<div style=\"background-color: orange; padding: 10px; border-radius: 2px;\">\n",
    "</div>"
   ]
  },
  {
   "cell_type": "markdown",
   "id": "351d417b-6fa7-4440-9e53-896a7458071e",
   "metadata": {},
   "source": [
    "<div style=\"background-color: purple; padding: 2px; border-radius: 2px;\">\n",
    "Someone need to check individuall the \"unknown\" articles and putting in the other folders manually, or you can change the values of article_type in the <code>newdf</code> dataframe. You can come up with another solution. \n",
    " \n",
    "Once done, rename the files as follows(all in lowercase):\n",
    "\n",
    "    \"j_{type}_{first last name of first author}_{year}_short_id.pdf\"\n",
    "\n",
    "    \n",
    "For example, a review article would be:\n",
    "\n",
    "    \"j_r_rodriguez_2021_467.pdf\"\n",
    "\n",
    "\n",
    "</div>"
   ]
  },
  {
   "cell_type": "markdown",
   "id": "8632e6f2-1ae1-4a2f-8c83-e8d6078e64fd",
   "metadata": {},
   "source": [
    "## Setting up table\n",
    "<div style=\"background-color: orange; padding: 10px; border-radius: 2px;\">\n",
    "</div>"
   ]
  },
  {
   "cell_type": "markdown",
   "id": "4a121056-2460-4aa4-a720-78bb71d106d3",
   "metadata": {},
   "source": [
    "<div style=\"background-color: purple; padding: 2px; border-radius: 2px;\">\n",
    "To make the full-text review smoother. You need to make a readable table for the coders, that only have the relevant columns. You need to add one column <code>to_exclude</code>, with preset values \"-\" and \"yes\". Also add another column <code>change_type_to</code> with preset values \"empirical\", \"review\", and \"conceptual\". \n",
    "</div>"
   ]
  }
 ],
 "metadata": {
  "kernelspec": {
   "display_name": "general",
   "language": "python",
   "name": "general"
  },
  "language_info": {
   "codemirror_mode": {
    "name": "ipython",
    "version": 3
   },
   "file_extension": ".py",
   "mimetype": "text/x-python",
   "name": "python",
   "nbconvert_exporter": "python",
   "pygments_lexer": "ipython3",
   "version": "3.12.2"
  }
 },
 "nbformat": 4,
 "nbformat_minor": 5
}
