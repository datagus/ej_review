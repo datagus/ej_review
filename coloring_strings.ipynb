{
 "cells": [
  {
   "cell_type": "code",
   "execution_count": null,
   "id": "cdeca3c9-0288-4746-a933-d609a7d6984d",
   "metadata": {},
   "outputs": [],
   "source": [
    "import pandas as pd\n",
    "import xlsxwriter\n",
    "import re"
   ]
  },
  {
   "cell_type": "code",
   "execution_count": null,
   "id": "04479518-c347-4b82-86aa-0ca8272a0eb5",
   "metadata": {},
   "outputs": [],
   "source": [
    "excel = pd.ExcelFile(\"tables/screening_table.xlsx\", engine=\"openpyxl\")"
   ]
  },
  {
   "cell_type": "code",
   "execution_count": null,
   "id": "5638b9dd-3fab-4a4e-886a-fda76788a0d6",
   "metadata": {},
   "outputs": [],
   "source": [
    "df = excel.parse(\"Charlotte\")"
   ]
  },
  {
   "cell_type": "markdown",
   "id": "24e17ee5-7fec-4b6f-af34-1862855e7961",
   "metadata": {},
   "source": [
    "## Adding the two columns for analysis"
   ]
  },
  {
   "cell_type": "markdown",
   "id": "2e1eb4e3-730d-4984-988a-f403410e80d6",
   "metadata": {},
   "source": [
    "The highlighting function rom xlswwrite doesn't work if there are missing valuesx"
   ]
  },
  {
   "cell_type": "code",
   "execution_count": null,
   "id": "12e629b2-8c57-4ac4-82b1-d00b614274bb",
   "metadata": {},
   "outputs": [],
   "source": [
    "df[\"included\"] = \"x\"\n",
    "df[\"article_type\"] = \"x\""
   ]
  },
  {
   "cell_type": "code",
   "execution_count": null,
   "id": "db2a5035-fc7b-4bea-8c8d-e0cc66323ac2",
   "metadata": {},
   "outputs": [],
   "source": [
    "df[\"doi\"] = df[\"doi\"].fillna(\"x\")"
   ]
  },
  {
   "cell_type": "markdown",
   "id": "eba10c1c-b1a0-4e9c-8168-069e8782b64a",
   "metadata": {},
   "source": [
    "## Creating Excel writer using xlsxwriter"
   ]
  },
  {
   "cell_type": "code",
   "execution_count": null,
   "id": "143a767b-8485-45e2-90d4-8894163912ab",
   "metadata": {},
   "outputs": [],
   "source": [
    "# Create an Excel writer using xlsxwriter\n",
    "output_file = \"second_test.xlsx\"\n",
    "writer = pd.ExcelWriter(output_file, engine='xlsxwriter')\n",
    "\n",
    "# Add a blank workbook & worksheet\n",
    "workbook  = writer.book\n",
    "worksheet = workbook.add_worksheet('Charlotte')"
   ]
  },
  {
   "cell_type": "markdown",
   "id": "5ca7389a-905c-4a73-90f7-fa074b8f7087",
   "metadata": {},
   "source": [
    "### Define formats for highlighting"
   ]
  },
  {
   "cell_type": "code",
   "execution_count": null,
   "id": "22a0a84b-841f-4643-a455-b16e0af3847f",
   "metadata": {},
   "outputs": [],
   "source": [
    "# Define formats for highlight and normal text\n",
    "red_format = workbook.add_format({'font_color': 'red'})\n",
    "black_format = workbook.add_format({'font_color': 'black'})"
   ]
  },
  {
   "cell_type": "markdown",
   "id": "103877c2-4c36-417b-a357-85a61db06c29",
   "metadata": {},
   "source": [
    "### Writing header row"
   ]
  },
  {
   "cell_type": "code",
   "execution_count": null,
   "id": "4c197faf-bb6b-4fb4-a369-dba1af6cefd1",
   "metadata": {},
   "outputs": [],
   "source": [
    "for col_idx, col_name in enumerate(df.columns):\n",
    "    worksheet.write(0, col_idx, col_name, black_format)"
   ]
  },
  {
   "cell_type": "markdown",
   "id": "3d3c99ad-45ac-4596-a03a-aa35db585a75",
   "metadata": {},
   "source": [
    "### Keywords to search to regular expression"
   ]
  },
  {
   "cell_type": "code",
   "execution_count": null,
   "id": "a42e7532-f8e6-4ad7-9acf-66c082c8135b",
   "metadata": {},
   "outputs": [],
   "source": [
    "pattern = re.compile(r'(environmental injustice|environmental justice)',re.IGNORECASE)"
   ]
  },
  {
   "cell_type": "markdown",
   "id": "892bae99-1d88-4879-adb7-3dff7179b658",
   "metadata": {},
   "source": [
    "### Function"
   ]
  },
  {
   "cell_type": "code",
   "execution_count": null,
   "id": "8d07c908-96e3-45dd-af58-14d686bcd928",
   "metadata": {},
   "outputs": [],
   "source": [
    "def highlight_keywords(worksheet, row, col, text):\n",
    "    \"\"\"\n",
    "    Splits 'text' around each regex match (pattern)\n",
    "    and writes partial substrings using XlsxWriter's write_rich_string().\n",
    "    Matches for 'environmental injustice' or 'environmental justice' are in red.\n",
    "    Everything else is in black.\n",
    "    \"\"\"\n",
    "    # Find all matches + the segments in between\n",
    "    matches = list(pattern.finditer(text))\n",
    "    if not matches:\n",
    "        # No matches, just write normally\n",
    "        worksheet.write(row, col, text, black_format)\n",
    "        return\n",
    "    \n",
    "    # We'll build a list of alternating segments and highlight matches:\n",
    "    #   [ (black_format, 'text before first match'),\n",
    "    #     (red_format,   'matched substring'),\n",
    "    #     (black_format, 'text between matches'),\n",
    "    #     (red_format,   'matched substring'),\n",
    "    #     ... ]\n",
    "    \n",
    "    rich_segments = []\n",
    "    last_end = 0\n",
    "    \n",
    "    for match in matches:\n",
    "        start, end = match.span()\n",
    "        \n",
    "        # Text before this match\n",
    "        if start > last_end:\n",
    "            segment_before = text[last_end:start]\n",
    "            rich_segments.append(black_format)\n",
    "            rich_segments.append(segment_before)\n",
    "        \n",
    "        # The matched substring itself\n",
    "        match_str = text[start:end]\n",
    "        rich_segments.append(red_format)\n",
    "        rich_segments.append(match_str)\n",
    "        \n",
    "        last_end = end\n",
    "    \n",
    "    # Text after the last match\n",
    "    if last_end < len(text):\n",
    "        segment_after = text[last_end:]\n",
    "        rich_segments.append(black_format)\n",
    "        rich_segments.append(segment_after)\n",
    "    \n",
    "    # Now write the assembled rich string into the cell\n",
    "    worksheet.write_rich_string(row, col, *rich_segments)"
   ]
  },
  {
   "cell_type": "markdown",
   "id": "4edbc225-c911-4b2c-b4bd-6cf9becb7607",
   "metadata": {},
   "source": [
    "### Writing the data"
   ]
  },
  {
   "cell_type": "code",
   "execution_count": null,
   "id": "e01c7c7a-660e-4445-9582-e20d183421b1",
   "metadata": {},
   "outputs": [],
   "source": [
    "# Write data rows\n",
    "for row_idx in range(len(df)):\n",
    "    for col_idx, value in enumerate(df.iloc[row_idx]):\n",
    "        col_name = df.columns[col_idx]\n",
    "        \n",
    "        if col_name in [\"title\", \"abstract\"] and isinstance(value, str):\n",
    "            # Apply partial substring highlighting\n",
    "            highlight_keywords(worksheet, row_idx + 1, col_idx, value)\n",
    "        else:\n",
    "            # Write other columns normally\n",
    "            worksheet.write(row_idx + 1, col_idx, value, black_format)\n",
    "\n",
    "# Close (this actually writes the file)\n",
    "workbook.close()"
   ]
  }
 ],
 "metadata": {
  "kernelspec": {
   "display_name": "general",
   "language": "python",
   "name": "general"
  },
  "language_info": {
   "codemirror_mode": {
    "name": "ipython",
    "version": 3
   },
   "file_extension": ".py",
   "mimetype": "text/x-python",
   "name": "python",
   "nbconvert_exporter": "python",
   "pygments_lexer": "ipython3",
   "version": "3.12.2"
  }
 },
 "nbformat": 4,
 "nbformat_minor": 5
}
